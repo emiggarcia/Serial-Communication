{
 "cells": [
  {
   "cell_type": "code",
   "execution_count": null,
   "id": "adc0406b-e063-48a0-a700-63fb3cded831",
   "metadata": {
    "tags": []
   },
   "outputs": [],
   "source": [
    "import serial\n",
    "import time\n",
    "#Serial takes these two parameters: serial device and baudrate\n",
    "\n",
    "ser = serial.Serial('COM5', 9600)\n",
    "f = open(\"DAC_VG_5ohm.csv\", \"at\")\n",
    "\n",
    "print(\"arranca\")\n",
    "\n",
    "\n",
    "try:\n",
    "    while (True):\n",
    "        line = ser.readline() \n",
    "        data=line.decode().replace('\\n','')\n",
    "        if(data.find(\"255\",0,3)==0):\n",
    "            break\n",
    "        else:\n",
    "            f.write(data)\n",
    "except:\n",
    "    print(\"error\")\n",
    "    f.close()\n",
    "    ser.close() \n",
    "\n",
    "    \n",
    "f.close()\n",
    "ser.close() \n",
    "print(\"listo\")\n",
    "\n"
   ]
  },
  {
   "cell_type": "code",
   "execution_count": null,
   "id": "83af1959-dc19-4121-952e-14a629cedecc",
   "metadata": {
    "tags": []
   },
   "outputs": [
    {
     "name": "stdout",
     "output_type": "stream",
     "text": [
      "arranca\n"
     ]
    }
   ],
   "source": [
    "import serial\n",
    "import time\n",
    "#Serial takes these two parameters: serial device and baudrate\n",
    "\n",
    "ser = serial.Serial('COM5', 9600)\n",
    "f = open(\"DAC_VG_5ohm.csv\", \"at\")\n",
    "\n",
    "print(\"arranca\")\n",
    "\n",
    "\n",
    "try:\n",
    "    while (True):\n",
    "        line = ser.readline() \n",
    "        data=line.decode().replace('\\n','')\n",
    "        \n",
    "        if(data.find(\"255\",0,3)==0):\n",
    "            break\n",
    "        else:\n",
    "            f.write(data)\n",
    "except:\n",
    "    print(\"error\")\n",
    "    f.close()\n",
    "    ser.close() \n",
    "\n",
    "    \n",
    "f.close()\n",
    "ser.close() \n",
    "print(\"listo\")\n",
    "\n"
   ]
  },
  {
   "cell_type": "code",
   "execution_count": null,
   "id": "2138f840-eb9d-403d-8777-3366b1ba6ab4",
   "metadata": {},
   "outputs": [],
   "source": [
    "import pandas as pd\n",
    "import numpy as np\n",
    "import matplotlib.pyplot as plt\n",
    "from scipy.optimize import curve_fit\n",
    "from scipy import optimize\n",
    "\n",
    "df=pd.read_csv(\"DAC_V_prueba_resistencias1.csv\",header=None)\n",
    "\n",
    "bit=df[0].to_numpy()\n",
    "Vin=df[1].to_numpy()\n",
    "Vlec=df[2].to_numpy()\n",
    "R1=99.9\n",
    "R2=330\n",
    "v2=[(vin*R1)/(R1+R2) for vin in Vin]\n",
    "\n",
    "plt.grid()\n",
    "#plt.xlim(0,0.1)\n",
    "#plt.ylim(0,0.1)\n",
    "plt.plot(Vin,Vlec)\n",
    "plt.plot(Vin,v2)\n",
    "\n"
   ]
  },
  {
   "cell_type": "code",
   "execution_count": null,
   "id": "e6fee193-7ab9-43e8-9c69-a40ddb4e375e",
   "metadata": {
    "tags": []
   },
   "outputs": [],
   "source": [
    "import serial\n",
    "import time\n",
    "#Serial takes these two parameters: serial device and baudrate\n",
    "\n",
    "ser = serial.Serial('COM5', 9600)\n",
    "f = open(\"DAC_V_Rled.csv\", \"at\")\n",
    "\n",
    "inicio = time.time()\n",
    "print(\"arranca\")\n",
    "time.sleep(1)\n",
    "fin=time.time()\n",
    "minutes=5\n",
    "i=1\n",
    "print((fin-inicio))\n",
    "\n",
    "while (fin-inicio)<=(60*minutes):#segundos\n",
    "    # Reading all bytes available bytes till EOL\n",
    "    line = ser.readline() \n",
    "    f.write(line.decode().replace('\\n',''))\n",
    "    \"\"\" if line:\n",
    "     #print(\"j\")\n",
    "     # Converting Byte Strings into unicode strings\n",
    "     string = line.decode()  \n",
    "     # Converting Unicode String into integer\n",
    "     f.write(string+\"\\n\") \n",
    "    \"\"\"        \n",
    "    #print(fin-inicio,i*((minutes/10)*60))\n",
    "    if (fin-inicio)>=i*((minutes/10)*60) and (fin-inicio)<(i*((minutes/10)*60)+0.5):\n",
    "        print(i*10,\"%\", (fin-inicio)/60)\n",
    "        i+=1\n",
    "    fin=time.time()     \n",
    "    \n",
    "f.close()\n",
    "ser.close() \n",
    "print(\"listo\")\n"
   ]
  },
  {
   "cell_type": "code",
   "execution_count": null,
   "id": "0ec7777b-cc81-4ba8-a493-3bb939170fb7",
   "metadata": {},
   "outputs": [],
   "source": [
    "import pandas as pd\n",
    "import numpy as np\n",
    "import matplotlib.pyplot as plt\n",
    "from scipy.optimize import curve_fit\n",
    "from scipy import optimize\n",
    "\n",
    "df=pd.read_csv(\"DAC_V_prueba.csv\",header=None)\n",
    "\n",
    "bit=df[0].to_numpy()\n",
    "Vin=df[1].to_numpy()\n",
    "Vlec=df[2].to_numpy()\n",
    "R1=99.9\n",
    "R2=330\n",
    "v2=[(vin*R1)/(R1+R2) for vin in Vin]\n",
    "\n",
    "plt.grid()\n",
    "plt.xlim(0,0.02)\n",
    "plt.ylim(0,0.02)\n",
    "plt.plot(Vin,Vlec)\n",
    "\n"
   ]
  },
  {
   "cell_type": "code",
   "execution_count": null,
   "id": "ca1fcf13-ada4-4854-918a-6cf0fc34d049",
   "metadata": {},
   "outputs": [],
   "source": [
    "import pandas as pd\n",
    "import numpy as np\n",
    "import matplotlib.pyplot as plt\n",
    "from scipy.optimize import curve_fit\n",
    "from scipy import optimize\n",
    "\n",
    "df=pd.read_csv(\"DAC_V_Bled.csv\",header=None)\n",
    "\n",
    "Vin=df[0].to_numpy()\n",
    "Vr=df[1].to_numpy()\n",
    "R=99.9\n",
    "\n",
    "Vd=Vin-Vr\n",
    "I=Vr/R\n",
    "print(np.average(I))\n",
    "\n",
    "plt.grid()\n",
    "plt.plot(Vin,I)\n",
    "\n"
   ]
  },
  {
   "cell_type": "code",
   "execution_count": 1,
   "id": "b20b6c2d-416b-4eef-8989-5d289d041e65",
   "metadata": {},
   "outputs": [
    {
     "name": "stdout",
     "output_type": "stream",
     "text": [
      "[ 0.06754551 -0.11492286]\n",
      "1.7014136312566726\n",
      "h= 6.79941600837875e-34\n",
      "1.6515138877304192\n"
     ]
    },
    {
     "data": {
      "image/png": "[encoded data removed]",
      "text/plain": [
       "<Figure size 640x480 with 1 Axes>"
      ]
     },
     "metadata": {},
     "output_type": "display_data"
    }
   ],
   "source": [
    "import pandas as pd\n",
    "import numpy as np\n",
    "import matplotlib.pyplot as plt\n",
    "from scipy.optimize import curve_fit\n",
    "from scipy import optimize\n",
    "\n",
    "def linear(x,m,b):\n",
    "    return m*x+b\n",
    "\n",
    "df=pd.read_csv(\"DAC_VR_5ohm.csv\",header=None)\n",
    "\n",
    "bit=df[0].to_numpy()\n",
    "Vin=df[1].to_numpy()\n",
    "Vr=df[2].to_numpy()\n",
    "Vr_err=df[3].to_numpy()\n",
    "\n",
    "R=5.3\n",
    "Vd=Vin-Vr\n",
    "I=Vr/R\n",
    "\n",
    "Linear_par, Linear_cov = optimize.curve_fit(linear, Vin[135:157], I[135:157])\n",
    "print(Linear_par)\n",
    "plt.grid()\n",
    "plt.xlim(0,2.5)\n",
    "#plt.ylim(0,0.015)\n",
    "#plt.errorbar(Vin,I,yerr=Vr_err)\n",
    "plt.plot(Vin,I)\n",
    "plt.plot(Vin[135:], linear(Vin[135:], *Linear_par))\n",
    "\n",
    "deltaV=-1*Linear_par[1]/Linear_par[0]\n",
    "print(deltaV)\n",
    "waveL=631*(10**-9)\n",
    "c=3*(10**8)\n",
    "e=1.9*(10**-19)\n",
    "print(\"h=\",deltaV*waveL*e/c)\n",
    "print(6.6*(10**-34)*c/(waveL*e))"
   ]
  },
  {
   "cell_type": "code",
   "execution_count": null,
   "id": "706a27a4-b65c-4e08-b66c-19760f7ddc66",
   "metadata": {},
   "outputs": [],
   "source": [
    "s=\"255,5\"\n",
    "\n",
    "x=s.find(\"255\",0,3)\n",
    "print(x)"
   ]
  },
  {
   "cell_type": "code",
   "execution_count": null,
   "id": "6a3eddfd-cfb1-4dee-afeb-dd5ea8b3c8cd",
   "metadata": {},
   "outputs": [],
   "source": [
    "import os\n",
    "import pandas as pd\n",
    "import numpy as np\n",
    "import matplotlib.pyplot as plt\n",
    "from scipy.optimize import curve_fit\n",
    "from scipy import optimize\n",
    "\n",
    "\n",
    "target=os.getcwd()+'\\LEDs'\n",
    "\n",
    "\n",
    "fig, (ax1) = plt.subplots(1, 1, layout='constrained')\n",
    "ax1.set_title('V vs I')\n",
    "ax1.set_xlabel('Voltaje (V)')\n",
    "ax1.set_ylabel('Corriente (A)')\n",
    "\n",
    "for top,dirs,files in os.walk(target):\n",
    "    print(files)\n",
    "    for file in files:\n",
    "        a=target+'\\\\'+file\n",
    "        print(a)\n",
    "        try:\n",
    "            df=pd.read_csv(a,sep=',',header=None)\n",
    "        except:\n",
    "            print(\"nulo\")\n",
    "        \n",
    "        byt=df[0]\n",
    "        Vin=df[1].to_numpy()\n",
    "        Vr=df[2].to_numpy()\n",
    "        R=99.9\n",
    "\n",
    "        Vd=Vin-Vr\n",
    "        I=Vr/R\n",
    "        print(byt[0],byt[21])\n",
    "#print(np.average(I))\n",
    "\n",
    "plt.grid()\n",
    "#plt.plot(Vin,I)\n"
   ]
  },
  {
   "cell_type": "code",
   "execution_count": null,
   "id": "fc341a9c-5e64-4371-919a-b2cdd1b5fdde",
   "metadata": {},
   "outputs": [],
   "source": []
  }
 ],
 "metadata": {
  "kernelspec": {
   "display_name": "Python 3 (ipykernel)",
   "language": "python",
   "name": "python3"
  },
  "language_info": {
   "codemirror_mode": {
    "name": "ipython",
    "version": 3
   },
   "file_extension": ".py",
   "mimetype": "text/x-python",
   "name": "python",
   "nbconvert_exporter": "python",
   "pygments_lexer": "ipython3",
   "version": "3.11.2"
  }
 },
 "nbformat": 4,
 "nbformat_minor": 5
}
